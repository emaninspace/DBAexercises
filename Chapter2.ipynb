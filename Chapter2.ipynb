{
 "cells": [
  {
   "cell_type": "code",
   "execution_count": 1,
   "metadata": {
    "collapsed": false
   },
   "outputs": [],
   "source": [
    "# Exercise 2.1\n",
    "# There is a 4 sided die with sides labeled 1-4. Suppose the probability of face x coming up is modeled by the functions:\n",
    "# p(x) = 1/4, p(x) = x/10, p(x) = 12/(25x). What are the biases or lack of biases expressed by each?"
   ]
  },
  {
   "cell_type": "code",
   "execution_count": 22,
   "metadata": {
    "collapsed": false
   },
   "outputs": [],
   "source": [
    "p1 <- function(x) {\n",
    "    return(0.25)\n",
    "}\n",
    "p2 <- function(x) {\n",
    "    return(x/10)\n",
    "}\n",
    "p3 <- function(x) {\n",
    "    return(12/(25*x))\n",
    "}\n",
    "x = c(1:4)"
   ]
  },
  {
   "cell_type": "code",
   "execution_count": 25,
   "metadata": {
    "collapsed": false
   },
   "outputs": [
    {
     "data": {
      "text/html": [
       "0.25"
      ],
      "text/latex": [
       "0.25"
      ],
      "text/markdown": [
       "0.25"
      ],
      "text/plain": [
       "[1] 0.25"
      ]
     },
     "execution_count": 25,
     "metadata": {},
     "output_type": "execute_result"
    },
    {
     "data": {
      "text/html": [
       "<ol class=list-inline>\n",
       "\t<li>0.1</li>\n",
       "\t<li>0.2</li>\n",
       "\t<li>0.3</li>\n",
       "\t<li>0.4</li>\n",
       "</ol>\n"
      ],
      "text/latex": [
       "\\begin{enumerate*}\n",
       "\\item 0.1\n",
       "\\item 0.2\n",
       "\\item 0.3\n",
       "\\item 0.4\n",
       "\\end{enumerate*}\n"
      ],
      "text/markdown": [
       "1. 0.1\n",
       "2. 0.2\n",
       "3. 0.3\n",
       "4. 0.4\n",
       "\n",
       "\n"
      ],
      "text/plain": [
       "[1] 0.1 0.2 0.3 0.4"
      ]
     },
     "execution_count": 25,
     "metadata": {},
     "output_type": "execute_result"
    },
    {
     "data": {
      "text/html": [
       "<ol class=list-inline>\n",
       "\t<li>0.48</li>\n",
       "\t<li>0.24</li>\n",
       "\t<li>0.16</li>\n",
       "\t<li>0.12</li>\n",
       "</ol>\n"
      ],
      "text/latex": [
       "\\begin{enumerate*}\n",
       "\\item 0.48\n",
       "\\item 0.24\n",
       "\\item 0.16\n",
       "\\item 0.12\n",
       "\\end{enumerate*}\n"
      ],
      "text/markdown": [
       "1. 0.48\n",
       "2. 0.24\n",
       "3. 0.16\n",
       "4. 0.12\n",
       "\n",
       "\n"
      ],
      "text/plain": [
       "[1] 0.48 0.24 0.16 0.12"
      ]
     },
     "execution_count": 25,
     "metadata": {},
     "output_type": "execute_result"
    },
    {
     "data": {
      "image/png": "[encoded data removed]",
      "image/svg+xml": [
       "<?xml version=\"1.0\" encoding=\"UTF-8\"?>\n",
       "<svg xmlns=\"http://www.w3.org/2000/svg\" xmlns:xlink=\"http://www.w3.org/1999/xlink\" width=\"504pt\" height=\"504pt\" viewBox=\"0 0 504 504\" version=\"1.1\">\n",
       "<defs>\n",
       "<g>\n",
       "<symbol overflow=\"visible\" id=\"glyph0-0\">\n",
       "<path style=\"stroke:none;\" d=\"\"/>\n",
       "</symbol>\n",
       "<symbol overflow=\"visible\" id=\"glyph0-1\">\n",
       "<path style=\"stroke:none;\" d=\"M 4.296875 -0.125 L 4.296875 -8.765625 L 3.359375 -8.765625 C 2.953125 -7.328125 2.859375 -7.28125 1.078125 -7.0625 L 1.078125 -6.0625 L 2.96875 -6.0625 L 2.96875 0 L 4.296875 0 Z M 4.296875 -0.125 \"/>\n",
       "</symbol>\n",
       "<symbol overflow=\"visible\" id=\"glyph0-2\">\n",
       "<path style=\"stroke:none;\" d=\"M 2.421875 -0.125 L 2.421875 -1.515625 L 0.90625 -1.515625 L 0.90625 0 L 2.421875 0 Z M 2.421875 -0.125 \"/>\n",
       "</symbol>\n",
       "<symbol overflow=\"visible\" id=\"glyph0-3\">\n",
       "<path style=\"stroke:none;\" d=\"M 6.21875 -4.21875 C 6.21875 -7.171875 5.140625 -8.765625 3.296875 -8.765625 C 1.46875 -8.765625 0.375 -7.15625 0.375 -4.296875 C 0.375 -1.421875 1.46875 0.1875 3.296875 0.1875 C 5.09375 0.1875 6.21875 -1.421875 6.21875 -4.21875 Z M 4.859375 -4.3125 C 4.859375 -1.90625 4.453125 -0.953125 3.28125 -0.953125 C 2.15625 -0.953125 1.734375 -1.953125 1.734375 -4.28125 C 1.734375 -6.609375 2.15625 -7.578125 3.296875 -7.578125 C 4.4375 -7.578125 4.859375 -6.59375 4.859375 -4.3125 Z M 4.859375 -4.3125 \"/>\n",
       "</symbol>\n",
       "<symbol overflow=\"visible\" id=\"glyph0-4\">\n",
       "<path style=\"stroke:none;\" d=\"M 6.28125 -2.953125 C 6.28125 -4.625 5.046875 -5.875 3.40625 -5.875 C 2.8125 -5.875 2.21875 -5.671875 2.015625 -5.515625 L 2.28125 -7.28125 L 5.84375 -7.28125 L 5.84375 -8.59375 L 1.203125 -8.59375 L 0.515625 -3.875 L 1.71875 -3.875 C 2.25 -4.5 2.5625 -4.671875 3.21875 -4.671875 C 4.359375 -4.671875 4.9375 -4.0625 4.9375 -2.8125 C 4.9375 -1.578125 4.375 -1.015625 3.21875 -1.015625 C 2.296875 -1.015625 1.859375 -1.359375 1.578125 -2.453125 L 0.25 -2.453125 C 0.625 -0.625 1.734375 0.1875 3.234375 0.1875 C 4.953125 0.1875 6.28125 -1.15625 6.28125 -2.953125 Z M 6.28125 -2.953125 \"/>\n",
       "</symbol>\n",
       "<symbol overflow=\"visible\" id=\"glyph0-5\">\n",
       "<path style=\"stroke:none;\" d=\"M 6.265625 -6.140625 C 6.265625 -7.578125 5.015625 -8.765625 3.40625 -8.765625 C 1.671875 -8.765625 0.515625 -7.75 0.453125 -5.5625 L 1.78125 -5.5625 C 1.875 -7.109375 2.328125 -7.578125 3.375 -7.578125 C 4.328125 -7.578125 4.90625 -7.03125 4.90625 -6.125 C 4.90625 -5.453125 4.546875 -4.96875 3.796875 -4.53125 L 2.6875 -3.90625 C 0.90625 -2.90625 0.359375 -2 0.25 0 L 6.203125 0 L 6.203125 -1.3125 L 1.75 -1.3125 C 1.84375 -1.875 2.1875 -2.21875 3.234375 -2.828125 L 4.421875 -3.484375 C 5.609375 -4.109375 6.265625 -5.09375 6.265625 -6.140625 Z M 6.265625 -6.140625 \"/>\n",
       "</symbol>\n",
       "<symbol overflow=\"visible\" id=\"glyph0-6\">\n",
       "<path style=\"stroke:none;\" d=\"M 6.203125 -2.609375 C 6.203125 -3.640625 5.65625 -4.375 4.625 -4.71875 L 4.625 -4.453125 C 5.421875 -4.765625 5.953125 -5.453125 5.953125 -6.296875 C 5.953125 -7.765625 4.84375 -8.765625 3.234375 -8.765625 C 1.515625 -8.765625 0.453125 -7.703125 0.421875 -5.765625 L 1.75 -5.765625 C 1.78125 -7.15625 2.15625 -7.578125 3.234375 -7.578125 C 4.171875 -7.578125 4.59375 -7.15625 4.59375 -6.265625 C 4.59375 -5.359375 4.34375 -5.109375 2.515625 -5.109375 L 2.515625 -3.953125 L 3.234375 -3.953125 C 4.390625 -3.953125 4.84375 -3.546875 4.84375 -2.59375 C 4.84375 -1.53125 4.328125 -1.015625 3.234375 -1.015625 C 2.078125 -1.015625 1.640625 -1.46875 1.5625 -2.828125 L 0.234375 -2.828125 C 0.375 -0.796875 1.453125 0.1875 3.1875 0.1875 C 4.9375 0.1875 6.203125 -1 6.203125 -2.609375 Z M 6.203125 -2.609375 \"/>\n",
       "</symbol>\n",
       "<symbol overflow=\"visible\" id=\"glyph0-7\">\n",
       "<path style=\"stroke:none;\" d=\"M 6.375 -2.171875 L 6.375 -3.25 L 5.109375 -3.25 L 5.109375 -8.765625 L 4.125 -8.765625 L 0.1875 -3.328125 L 0.1875 -2.046875 L 3.78125 -2.046875 L 3.78125 0 L 5.109375 0 L 5.109375 -2.046875 L 6.375 -2.046875 Z M 3.921875 -3.25 L 1.515625 -3.25 L 4.015625 -6.75 L 3.78125 -6.84375 L 3.78125 -3.25 Z M 3.921875 -3.25 \"/>\n",
       "</symbol>\n",
       "<symbol overflow=\"visible\" id=\"glyph0-8\">\n",
       "<path style=\"stroke:none;\" d=\"M 5.765625 -0.234375 L 3.65625 -3.390625 L 5.875 -6.546875 L 4.421875 -6.546875 L 2.96875 -4.375 L 1.53125 -6.546875 L 0.0625 -6.546875 L 2.25 -3.34375 L -0.0625 0 L 1.40625 0 L 2.921875 -2.296875 L 4.4375 0 L 5.921875 0 Z M 5.765625 -0.234375 \"/>\n",
       "</symbol>\n",
       "<symbol overflow=\"visible\" id=\"glyph1-0\">\n",
       "<path style=\"stroke:none;\" d=\"\"/>\n",
       "</symbol>\n",
       "<symbol overflow=\"visible\" id=\"glyph1-1\">\n",
       "<path style=\"stroke:none;\" d=\"M -4.21875 -6.21875 C -7.171875 -6.21875 -8.765625 -5.140625 -8.765625 -3.296875 C -8.765625 -1.46875 -7.15625 -0.375 -4.296875 -0.375 C -1.421875 -0.375 0.1875 -1.46875 0.1875 -3.296875 C 0.1875 -5.09375 -1.421875 -6.21875 -4.21875 -6.21875 Z M -4.3125 -4.859375 C -1.90625 -4.859375 -0.953125 -4.453125 -0.953125 -3.28125 C -0.953125 -2.15625 -1.953125 -1.734375 -4.28125 -1.734375 C -6.609375 -1.734375 -7.578125 -2.15625 -7.578125 -3.296875 C -7.578125 -4.4375 -6.59375 -4.859375 -4.3125 -4.859375 Z M -4.3125 -4.859375 \"/>\n",
       "</symbol>\n",
       "<symbol overflow=\"visible\" id=\"glyph1-2\">\n",
       "<path style=\"stroke:none;\" d=\"M -0.125 -2.421875 L -1.515625 -2.421875 L -1.515625 -0.90625 L 0 -0.90625 L 0 -2.421875 Z M -0.125 -2.421875 \"/>\n",
       "</symbol>\n",
       "<symbol overflow=\"visible\" id=\"glyph1-3\">\n",
       "<path style=\"stroke:none;\" d=\"M -0.125 -4.296875 L -8.765625 -4.296875 L -8.765625 -3.359375 C -7.328125 -2.953125 -7.28125 -2.859375 -7.0625 -1.078125 L -6.0625 -1.078125 L -6.0625 -2.96875 L 0 -2.96875 L 0 -4.296875 Z M -0.125 -4.296875 \"/>\n",
       "</symbol>\n",
       "<symbol overflow=\"visible\" id=\"glyph1-4\">\n",
       "<path style=\"stroke:none;\" d=\"M -2.953125 -6.28125 C -4.625 -6.28125 -5.875 -5.046875 -5.875 -3.40625 C -5.875 -2.8125 -5.671875 -2.21875 -5.515625 -2.015625 L -7.28125 -2.28125 L -7.28125 -5.84375 L -8.59375 -5.84375 L -8.59375 -1.203125 L -3.875 -0.515625 L -3.875 -1.71875 C -4.5 -2.25 -4.671875 -2.5625 -4.671875 -3.21875 C -4.671875 -4.359375 -4.0625 -4.9375 -2.8125 -4.9375 C -1.578125 -4.9375 -1.015625 -4.375 -1.015625 -3.21875 C -1.015625 -2.296875 -1.359375 -1.859375 -2.453125 -1.578125 L -2.453125 -0.25 C -0.625 -0.625 0.1875 -1.734375 0.1875 -3.234375 C 0.1875 -4.953125 -1.15625 -6.28125 -2.953125 -6.28125 Z M -2.953125 -6.28125 \"/>\n",
       "</symbol>\n",
       "<symbol overflow=\"visible\" id=\"glyph1-5\">\n",
       "<path style=\"stroke:none;\" d=\"M -6.140625 -6.265625 C -7.578125 -6.265625 -8.765625 -5.015625 -8.765625 -3.40625 C -8.765625 -1.671875 -7.75 -0.515625 -5.5625 -0.453125 L -5.5625 -1.78125 C -7.109375 -1.875 -7.578125 -2.328125 -7.578125 -3.375 C -7.578125 -4.328125 -7.03125 -4.90625 -6.125 -4.90625 C -5.453125 -4.90625 -4.96875 -4.546875 -4.53125 -3.796875 L -3.90625 -2.6875 C -2.90625 -0.90625 -2 -0.359375 0 -0.25 L 0 -6.203125 L -1.3125 -6.203125 L -1.3125 -1.75 C -1.875 -1.84375 -2.21875 -2.1875 -2.828125 -3.234375 L -3.484375 -4.421875 C -4.109375 -5.609375 -5.09375 -6.265625 -6.140625 -6.265625 Z M -6.140625 -6.265625 \"/>\n",
       "</symbol>\n",
       "<symbol overflow=\"visible\" id=\"glyph1-6\">\n",
       "<path style=\"stroke:none;\" d=\"M -2.609375 -6.203125 C -3.640625 -6.203125 -4.375 -5.65625 -4.71875 -4.625 L -4.453125 -4.625 C -4.765625 -5.421875 -5.453125 -5.953125 -6.296875 -5.953125 C -7.765625 -5.953125 -8.765625 -4.84375 -8.765625 -3.234375 C -8.765625 -1.515625 -7.703125 -0.453125 -5.765625 -0.421875 L -5.765625 -1.75 C -7.15625 -1.78125 -7.578125 -2.15625 -7.578125 -3.234375 C -7.578125 -4.171875 -7.15625 -4.59375 -6.265625 -4.59375 C -5.359375 -4.59375 -5.109375 -4.34375 -5.109375 -2.515625 L -3.953125 -2.515625 L -3.953125 -3.234375 C -3.953125 -4.390625 -3.546875 -4.84375 -2.59375 -4.84375 C -1.53125 -4.84375 -1.015625 -4.328125 -1.015625 -3.234375 C -1.015625 -2.078125 -1.46875 -1.640625 -2.828125 -1.5625 L -2.828125 -0.234375 C -0.796875 -0.375 0.1875 -1.453125 0.1875 -3.1875 C 0.1875 -4.9375 -1 -6.203125 -2.609375 -6.203125 Z M -2.609375 -6.203125 \"/>\n",
       "</symbol>\n",
       "<symbol overflow=\"visible\" id=\"glyph1-7\">\n",
       "<path style=\"stroke:none;\" d=\"M -2.171875 -6.375 L -3.25 -6.375 L -3.25 -5.109375 L -8.765625 -5.109375 L -8.765625 -4.125 L -3.328125 -0.1875 L -2.046875 -0.1875 L -2.046875 -3.78125 L 0 -3.78125 L 0 -5.109375 L -2.046875 -5.109375 L -2.046875 -6.375 Z M -3.25 -3.921875 L -3.25 -1.515625 L -6.75 -4.015625 L -6.84375 -3.78125 L -3.25 -3.78125 Z M -3.25 -3.921875 \"/>\n",
       "</symbol>\n",
       "<symbol overflow=\"visible\" id=\"glyph1-8\">\n",
       "<path style=\"stroke:none;\" d=\"M -3.21875 -6.40625 C -5.328125 -6.40625 -6.734375 -5.25 -6.734375 -3.578125 C -6.734375 -2.71875 -6.3125 -1.9375 -5.5625 -1.46875 L -5.46875 -1.703125 L -6.546875 -1.703125 L -6.546875 -0.515625 L 2.609375 -0.515625 L 2.609375 -1.78125 L -0.890625 -1.78125 L -0.796875 -1.546875 C -0.140625 -2.078125 0.1875 -2.765625 0.1875 -3.59375 C 0.1875 -5.203125 -1.21875 -6.40625 -3.21875 -6.40625 Z M -3.234375 -5.09375 C -1.8125 -5.09375 -1.015625 -4.5 -1.015625 -3.40625 C -1.015625 -2.359375 -1.75 -1.78125 -3.234375 -1.78125 C -4.703125 -1.78125 -5.53125 -2.359375 -5.53125 -3.40625 C -5.53125 -4.515625 -4.734375 -5.09375 -3.234375 -5.09375 Z M -3.234375 -5.09375 \"/>\n",
       "</symbol>\n",
       "<symbol overflow=\"visible\" id=\"glyph1-9\">\n",
       "<path style=\"stroke:none;\" d=\"M 2.3125 -3.59375 C 0.59375 -2.53125 -1.3125 -1.984375 -3.234375 -1.984375 C -5.140625 -1.984375 -7.078125 -2.53125 -9.015625 -3.734375 L -9.015625 -2.765625 C -7.40625 -1.53125 -5.125 -0.734375 -3.234375 -0.734375 C -1.34375 -0.734375 0.9375 -1.53125 2.546875 -2.765625 L 2.546875 -3.734375 Z M 2.3125 -3.59375 \"/>\n",
       "</symbol>\n",
       "<symbol overflow=\"visible\" id=\"glyph1-10\">\n",
       "<path style=\"stroke:none;\" d=\"M -0.234375 -5.765625 L -3.390625 -3.65625 L -6.546875 -5.875 L -6.546875 -4.421875 L -4.375 -2.96875 L -6.546875 -1.53125 L -6.546875 -0.0625 L -3.34375 -2.25 L 0 0.0625 L 0 -1.40625 L -2.296875 -2.921875 L 0 -4.4375 L 0 -5.921875 Z M -0.234375 -5.765625 \"/>\n",
       "</symbol>\n",
       "<symbol overflow=\"visible\" id=\"glyph1-11\">\n",
       "<path style=\"stroke:none;\" d=\"M -3.234375 -3.203125 C -5.125 -3.203125 -7.40625 -2.40625 -9.015625 -1.171875 L -9.015625 -0.203125 C -7.0625 -1.40625 -5.140625 -1.953125 -3.234375 -1.953125 C -1.3125 -1.953125 0.609375 -1.40625 2.546875 -0.203125 L 2.546875 -1.171875 C 0.9375 -2.40625 -1.34375 -3.203125 -3.234375 -3.203125 Z M -3.234375 -3.203125 \"/>\n",
       "</symbol>\n",
       "</g>\n",
       "</defs>\n",
       "<g id=\"surface250\">\n",
       "<rect x=\"0\" y=\"0\" width=\"504\" height=\"504\" style=\"fill:rgb(100%,100%,100%);fill-opacity:1;stroke:none;\"/>\n",
       "<path style=\"fill:none;stroke-width:0.75;stroke-linecap:round;stroke-linejoin:round;stroke:rgb(0%,0%,0%);stroke-opacity:1;stroke-miterlimit:10;\" d=\"M 77.101562 416.800781 C 77.101562 420.398438 71.699219 420.398438 71.699219 416.800781 C 71.699219 413.199219 77.101562 413.199219 77.101562 416.800781 \"/>\n",
       "<path style=\"fill:none;stroke-width:0.75;stroke-linecap:round;stroke-linejoin:round;stroke:rgb(0%,0%,0%);stroke-opacity:1;stroke-miterlimit:10;\" d=\"M 205.101562 302.132812 C 205.101562 305.734375 199.699219 305.734375 199.699219 302.132812 C 199.699219 298.535156 205.101562 298.535156 205.101562 302.132812 \"/>\n",
       "<path style=\"fill:none;stroke-width:0.75;stroke-linecap:round;stroke-linejoin:round;stroke:rgb(0%,0%,0%);stroke-opacity:1;stroke-miterlimit:10;\" d=\"M 333.101562 187.464844 C 333.101562 191.066406 327.699219 191.066406 327.699219 187.464844 C 327.699219 183.867188 333.101562 183.867188 333.101562 187.464844 \"/>\n",
       "<path style=\"fill:none;stroke-width:0.75;stroke-linecap:round;stroke-linejoin:round;stroke:rgb(0%,0%,0%);stroke-opacity:1;stroke-miterlimit:10;\" d=\"M 461.101562 72.800781 C 461.101562 76.398438 455.699219 76.398438 455.699219 72.800781 C 455.699219 69.199219 461.101562 69.199219 461.101562 72.800781 \"/>\n",
       "<path style=\"fill:none;stroke-width:0.75;stroke-linecap:round;stroke-linejoin:round;stroke:rgb(0%,0%,0%);stroke-opacity:1;stroke-miterlimit:10;\" d=\"M 74.398438 430.558594 L 458.398438 430.558594 \"/>\n",
       "<path style=\"fill:none;stroke-width:0.75;stroke-linecap:round;stroke-linejoin:round;stroke:rgb(0%,0%,0%);stroke-opacity:1;stroke-miterlimit:10;\" d=\"M 74.398438 430.558594 L 74.398438 437.761719 \"/>\n",
       "<path style=\"fill:none;stroke-width:0.75;stroke-linecap:round;stroke-linejoin:round;stroke:rgb(0%,0%,0%);stroke-opacity:1;stroke-miterlimit:10;\" d=\"M 138.398438 430.558594 L 138.398438 437.761719 \"/>\n",
       "<path style=\"fill:none;stroke-width:0.75;stroke-linecap:round;stroke-linejoin:round;stroke:rgb(0%,0%,0%);stroke-opacity:1;stroke-miterlimit:10;\" d=\"M 202.398438 430.558594 L 202.398438 437.761719 \"/>\n",
       "<path style=\"fill:none;stroke-width:0.75;stroke-linecap:round;stroke-linejoin:round;stroke:rgb(0%,0%,0%);stroke-opacity:1;stroke-miterlimit:10;\" d=\"M 266.398438 430.558594 L 266.398438 437.761719 \"/>\n",
       "<path style=\"fill:none;stroke-width:0.75;stroke-linecap:round;stroke-linejoin:round;stroke:rgb(0%,0%,0%);stroke-opacity:1;stroke-miterlimit:10;\" d=\"M 330.398438 430.558594 L 330.398438 437.761719 \"/>\n",
       "<path style=\"fill:none;stroke-width:0.75;stroke-linecap:round;stroke-linejoin:round;stroke:rgb(0%,0%,0%);stroke-opacity:1;stroke-miterlimit:10;\" d=\"M 394.398438 430.558594 L 394.398438 437.761719 \"/>\n",
       "<path style=\"fill:none;stroke-width:0.75;stroke-linecap:round;stroke-linejoin:round;stroke:rgb(0%,0%,0%);stroke-opacity:1;stroke-miterlimit:10;\" d=\"M 458.398438 430.558594 L 458.398438 437.761719 \"/>\n",
       "<g style=\"fill:rgb(0%,0%,0%);fill-opacity:1;\">\n",
       "  <use xlink:href=\"#glyph0-1\" x=\"65.898438\" y=\"456.256836\"/>\n",
       "  <use xlink:href=\"#glyph0-2\" x=\"72.570312\" y=\"456.256836\"/>\n",
       "  <use xlink:href=\"#glyph0-3\" x=\"75.90625\" y=\"456.256836\"/>\n",
       "</g>\n",
       "<g style=\"fill:rgb(0%,0%,0%);fill-opacity:1;\">\n",
       "  <use xlink:href=\"#glyph0-1\" x=\"129.898438\" y=\"456.256836\"/>\n",
       "  <use xlink:href=\"#glyph0-2\" x=\"136.570312\" y=\"456.256836\"/>\n",
       "  <use xlink:href=\"#glyph0-4\" x=\"139.90625\" y=\"456.256836\"/>\n",
       "</g>\n",
       "<g style=\"fill:rgb(0%,0%,0%);fill-opacity:1;\">\n",
       "  <use xlink:href=\"#glyph0-5\" x=\"193.898438\" y=\"456.256836\"/>\n",
       "  <use xlink:href=\"#glyph0-2\" x=\"200.570312\" y=\"456.256836\"/>\n",
       "  <use xlink:href=\"#glyph0-3\" x=\"203.90625\" y=\"456.256836\"/>\n",
       "</g>\n",
       "<g style=\"fill:rgb(0%,0%,0%);fill-opacity:1;\">\n",
       "  <use xlink:href=\"#glyph0-5\" x=\"257.898438\" y=\"456.256836\"/>\n",
       "  <use xlink:href=\"#glyph0-2\" x=\"264.570312\" y=\"456.256836\"/>\n",
       "  <use xlink:href=\"#glyph0-4\" x=\"267.90625\" y=\"456.256836\"/>\n",
       "</g>\n",
       "<g style=\"fill:rgb(0%,0%,0%);fill-opacity:1;\">\n",
       "  <use xlink:href=\"#glyph0-6\" x=\"321.898438\" y=\"456.256836\"/>\n",
       "  <use xlink:href=\"#glyph0-2\" x=\"328.570312\" y=\"456.256836\"/>\n",
       "  <use xlink:href=\"#glyph0-3\" x=\"331.90625\" y=\"456.256836\"/>\n",
       "</g>\n",
       "<g style=\"fill:rgb(0%,0%,0%);fill-opacity:1;\">\n",
       "  <use xlink:href=\"#glyph0-6\" x=\"385.898438\" y=\"456.256836\"/>\n",
       "  <use xlink:href=\"#glyph0-2\" x=\"392.570312\" y=\"456.256836\"/>\n",
       "  <use xlink:href=\"#glyph0-4\" x=\"395.90625\" y=\"456.256836\"/>\n",
       "</g>\n",
       "<g style=\"fill:rgb(0%,0%,0%);fill-opacity:1;\">\n",
       "  <use xlink:href=\"#glyph0-7\" x=\"449.898438\" y=\"456.256836\"/>\n",
       "  <use xlink:href=\"#glyph0-2\" x=\"456.570312\" y=\"456.256836\"/>\n",
       "  <use xlink:href=\"#glyph0-3\" x=\"459.90625\" y=\"456.256836\"/>\n",
       "</g>\n",
       "<path style=\"fill:none;stroke-width:0.75;stroke-linecap:round;stroke-linejoin:round;stroke:rgb(0%,0%,0%);stroke-opacity:1;stroke-miterlimit:10;\" d=\"M 59.039062 416.800781 L 59.039062 72.800781 \"/>\n",
       "<path style=\"fill:none;stroke-width:0.75;stroke-linecap:round;stroke-linejoin:round;stroke:rgb(0%,0%,0%);stroke-opacity:1;stroke-miterlimit:10;\" d=\"M 59.039062 416.800781 L 51.839844 416.800781 \"/>\n",
       "<path style=\"fill:none;stroke-width:0.75;stroke-linecap:round;stroke-linejoin:round;stroke:rgb(0%,0%,0%);stroke-opacity:1;stroke-miterlimit:10;\" d=\"M 59.039062 359.464844 L 51.839844 359.464844 \"/>\n",
       "<path style=\"fill:none;stroke-width:0.75;stroke-linecap:round;stroke-linejoin:round;stroke:rgb(0%,0%,0%);stroke-opacity:1;stroke-miterlimit:10;\" d=\"M 59.039062 302.132812 L 51.839844 302.132812 \"/>\n",
       "<path style=\"fill:none;stroke-width:0.75;stroke-linecap:round;stroke-linejoin:round;stroke:rgb(0%,0%,0%);stroke-opacity:1;stroke-miterlimit:10;\" d=\"M 59.039062 244.800781 L 51.839844 244.800781 \"/>\n",
       "<path style=\"fill:none;stroke-width:0.75;stroke-linecap:round;stroke-linejoin:round;stroke:rgb(0%,0%,0%);stroke-opacity:1;stroke-miterlimit:10;\" d=\"M 59.039062 187.464844 L 51.839844 187.464844 \"/>\n",
       "<path style=\"fill:none;stroke-width:0.75;stroke-linecap:round;stroke-linejoin:round;stroke:rgb(0%,0%,0%);stroke-opacity:1;stroke-miterlimit:10;\" d=\"M 59.039062 130.132812 L 51.839844 130.132812 \"/>\n",
       "<path style=\"fill:none;stroke-width:0.75;stroke-linecap:round;stroke-linejoin:round;stroke:rgb(0%,0%,0%);stroke-opacity:1;stroke-miterlimit:10;\" d=\"M 59.039062 72.800781 L 51.839844 72.800781 \"/>\n",
       "<g style=\"fill:rgb(0%,0%,0%);fill-opacity:1;\">\n",
       "  <use xlink:href=\"#glyph1-1\" x=\"41.538086\" y=\"428.800781\"/>\n",
       "  <use xlink:href=\"#glyph1-2\" x=\"41.538086\" y=\"422.128906\"/>\n",
       "  <use xlink:href=\"#glyph1-3\" x=\"41.538086\" y=\"418.792969\"/>\n",
       "  <use xlink:href=\"#glyph1-1\" x=\"41.538086\" y=\"412.121094\"/>\n",
       "</g>\n",
       "<g style=\"fill:rgb(0%,0%,0%);fill-opacity:1;\">\n",
       "  <use xlink:href=\"#glyph1-1\" x=\"41.538086\" y=\"371.464844\"/>\n",
       "  <use xlink:href=\"#glyph1-2\" x=\"41.538086\" y=\"364.792969\"/>\n",
       "  <use xlink:href=\"#glyph1-3\" x=\"41.538086\" y=\"361.457031\"/>\n",
       "  <use xlink:href=\"#glyph1-4\" x=\"41.538086\" y=\"354.785156\"/>\n",
       "</g>\n",
       "<g style=\"fill:rgb(0%,0%,0%);fill-opacity:1;\">\n",
       "  <use xlink:href=\"#glyph1-1\" x=\"41.538086\" y=\"314.132812\"/>\n",
       "  <use xlink:href=\"#glyph1-2\" x=\"41.538086\" y=\"307.460938\"/>\n",
       "  <use xlink:href=\"#glyph1-5\" x=\"41.538086\" y=\"304.125\"/>\n",
       "  <use xlink:href=\"#glyph1-1\" x=\"41.538086\" y=\"297.453125\"/>\n",
       "</g>\n",
       "<g style=\"fill:rgb(0%,0%,0%);fill-opacity:1;\">\n",
       "  <use xlink:href=\"#glyph1-1\" x=\"41.538086\" y=\"256.800781\"/>\n",
       "  <use xlink:href=\"#glyph1-2\" x=\"41.538086\" y=\"250.128906\"/>\n",
       "  <use xlink:href=\"#glyph1-5\" x=\"41.538086\" y=\"246.792969\"/>\n",
       "  <use xlink:href=\"#glyph1-4\" x=\"41.538086\" y=\"240.121094\"/>\n",
       "</g>\n",
       "<g style=\"fill:rgb(0%,0%,0%);fill-opacity:1;\">\n",
       "  <use xlink:href=\"#glyph1-1\" x=\"41.538086\" y=\"199.464844\"/>\n",
       "  <use xlink:href=\"#glyph1-2\" x=\"41.538086\" y=\"192.792969\"/>\n",
       "  <use xlink:href=\"#glyph1-6\" x=\"41.538086\" y=\"189.457031\"/>\n",
       "  <use xlink:href=\"#glyph1-1\" x=\"41.538086\" y=\"182.785156\"/>\n",
       "</g>\n",
       "<g style=\"fill:rgb(0%,0%,0%);fill-opacity:1;\">\n",
       "  <use xlink:href=\"#glyph1-1\" x=\"41.538086\" y=\"142.132812\"/>\n",
       "  <use xlink:href=\"#glyph1-2\" x=\"41.538086\" y=\"135.460938\"/>\n",
       "  <use xlink:href=\"#glyph1-6\" x=\"41.538086\" y=\"132.125\"/>\n",
       "  <use xlink:href=\"#glyph1-4\" x=\"41.538086\" y=\"125.453125\"/>\n",
       "</g>\n",
       "<g style=\"fill:rgb(0%,0%,0%);fill-opacity:1;\">\n",
       "  <use xlink:href=\"#glyph1-1\" x=\"41.538086\" y=\"84.800781\"/>\n",
       "  <use xlink:href=\"#glyph1-2\" x=\"41.538086\" y=\"78.128906\"/>\n",
       "  <use xlink:href=\"#glyph1-7\" x=\"41.538086\" y=\"74.792969\"/>\n",
       "  <use xlink:href=\"#glyph1-1\" x=\"41.538086\" y=\"68.121094\"/>\n",
       "</g>\n",
       "<path style=\"fill:none;stroke-width:0.75;stroke-linecap:round;stroke-linejoin:round;stroke:rgb(0%,0%,0%);stroke-opacity:1;stroke-miterlimit:10;\" d=\"M 59.039062 430.558594 L 473.761719 430.558594 L 473.761719 59.039062 L 59.039062 59.039062 L 59.039062 430.558594 \"/>\n",
       "<g style=\"fill:rgb(0%,0%,0%);fill-opacity:1;\">\n",
       "  <use xlink:href=\"#glyph0-8\" x=\"263.398438\" y=\"485.057617\"/>\n",
       "</g>\n",
       "<g style=\"fill:rgb(0%,0%,0%);fill-opacity:1;\">\n",
       "  <use xlink:href=\"#glyph1-8\" x=\"12.737305\" y=\"258.800781\"/>\n",
       "  <use xlink:href=\"#glyph1-5\" x=\"12.737305\" y=\"252.128906\"/>\n",
       "  <use xlink:href=\"#glyph1-9\" x=\"12.737305\" y=\"245.457031\"/>\n",
       "  <use xlink:href=\"#glyph1-10\" x=\"12.737305\" y=\"241.460938\"/>\n",
       "  <use xlink:href=\"#glyph1-11\" x=\"12.737305\" y=\"235.460938\"/>\n",
       "</g>\n",
       "</g>\n",
       "</svg>\n"
      ],
      "text/plain": [
       "plot without title"
      ]
     },
     "metadata": {
      "image/svg+xml": {
       "isolated": true
      }
     },
     "output_type": "display_data"
    },
    {
     "data": {
      "image/png": "[encoded data removed]",
      "image/svg+xml": [
       "<?xml version=\"1.0\" encoding=\"UTF-8\"?>\n",
       "<svg xmlns=\"http://www.w3.org/2000/svg\" xmlns:xlink=\"http://www.w3.org/1999/xlink\" width=\"504pt\" height=\"504pt\" viewBox=\"0 0 504 504\" version=\"1.1\">\n",
       "<defs>\n",
       "<g>\n",
       "<symbol overflow=\"visible\" id=\"glyph0-0\">\n",
       "<path style=\"stroke:none;\" d=\"\"/>\n",
       "</symbol>\n",
       "<symbol overflow=\"visible\" id=\"glyph0-1\">\n",
       "<path style=\"stroke:none;\" d=\"M 4.296875 -0.125 L 4.296875 -8.765625 L 3.359375 -8.765625 C 2.953125 -7.328125 2.859375 -7.28125 1.078125 -7.0625 L 1.078125 -6.0625 L 2.96875 -6.0625 L 2.96875 0 L 4.296875 0 Z M 4.296875 -0.125 \"/>\n",
       "</symbol>\n",
       "<symbol overflow=\"visible\" id=\"glyph0-2\">\n",
       "<path style=\"stroke:none;\" d=\"M 2.421875 -0.125 L 2.421875 -1.515625 L 0.90625 -1.515625 L 0.90625 0 L 2.421875 0 Z M 2.421875 -0.125 \"/>\n",
       "</symbol>\n",
       "<symbol overflow=\"visible\" id=\"glyph0-3\">\n",
       "<path style=\"stroke:none;\" d=\"M 6.21875 -4.21875 C 6.21875 -7.171875 5.140625 -8.765625 3.296875 -8.765625 C 1.46875 -8.765625 0.375 -7.15625 0.375 -4.296875 C 0.375 -1.421875 1.46875 0.1875 3.296875 0.1875 C 5.09375 0.1875 6.21875 -1.421875 6.21875 -4.21875 Z M 4.859375 -4.3125 C 4.859375 -1.90625 4.453125 -0.953125 3.28125 -0.953125 C 2.15625 -0.953125 1.734375 -1.953125 1.734375 -4.28125 C 1.734375 -6.609375 2.15625 -7.578125 3.296875 -7.578125 C 4.4375 -7.578125 4.859375 -6.59375 4.859375 -4.3125 Z M 4.859375 -4.3125 \"/>\n",
       "</symbol>\n",
       "<symbol overflow=\"visible\" id=\"glyph0-4\">\n",
       "<path style=\"stroke:none;\" d=\"M 6.28125 -2.953125 C 6.28125 -4.625 5.046875 -5.875 3.40625 -5.875 C 2.8125 -5.875 2.21875 -5.671875 2.015625 -5.515625 L 2.28125 -7.28125 L 5.84375 -7.28125 L 5.84375 -8.59375 L 1.203125 -8.59375 L 0.515625 -3.875 L 1.71875 -3.875 C 2.25 -4.5 2.5625 -4.671875 3.21875 -4.671875 C 4.359375 -4.671875 4.9375 -4.0625 4.9375 -2.8125 C 4.9375 -1.578125 4.375 -1.015625 3.21875 -1.015625 C 2.296875 -1.015625 1.859375 -1.359375 1.578125 -2.453125 L 0.25 -2.453125 C 0.625 -0.625 1.734375 0.1875 3.234375 0.1875 C 4.953125 0.1875 6.28125 -1.15625 6.28125 -2.953125 Z M 6.28125 -2.953125 \"/>\n",
       "</symbol>\n",
       "<symbol overflow=\"visible\" id=\"glyph0-5\">\n",
       "<path style=\"stroke:none;\" d=\"M 6.265625 -6.140625 C 6.265625 -7.578125 5.015625 -8.765625 3.40625 -8.765625 C 1.671875 -8.765625 0.515625 -7.75 0.453125 -5.5625 L 1.78125 -5.5625 C 1.875 -7.109375 2.328125 -7.578125 3.375 -7.578125 C 4.328125 -7.578125 4.90625 -7.03125 4.90625 -6.125 C 4.90625 -5.453125 4.546875 -4.96875 3.796875 -4.53125 L 2.6875 -3.90625 C 0.90625 -2.90625 0.359375 -2 0.25 0 L 6.203125 0 L 6.203125 -1.3125 L 1.75 -1.3125 C 1.84375 -1.875 2.1875 -2.21875 3.234375 -2.828125 L 4.421875 -3.484375 C 5.609375 -4.109375 6.265625 -5.09375 6.265625 -6.140625 Z M 6.265625 -6.140625 \"/>\n",
       "</symbol>\n",
       "<symbol overflow=\"visible\" id=\"glyph0-6\">\n",
       "<path style=\"stroke:none;\" d=\"M 6.203125 -2.609375 C 6.203125 -3.640625 5.65625 -4.375 4.625 -4.71875 L 4.625 -4.453125 C 5.421875 -4.765625 5.953125 -5.453125 5.953125 -6.296875 C 5.953125 -7.765625 4.84375 -8.765625 3.234375 -8.765625 C 1.515625 -8.765625 0.453125 -7.703125 0.421875 -5.765625 L 1.75 -5.765625 C 1.78125 -7.15625 2.15625 -7.578125 3.234375 -7.578125 C 4.171875 -7.578125 4.59375 -7.15625 4.59375 -6.265625 C 4.59375 -5.359375 4.34375 -5.109375 2.515625 -5.109375 L 2.515625 -3.953125 L 3.234375 -3.953125 C 4.390625 -3.953125 4.84375 -3.546875 4.84375 -2.59375 C 4.84375 -1.53125 4.328125 -1.015625 3.234375 -1.015625 C 2.078125 -1.015625 1.640625 -1.46875 1.5625 -2.828125 L 0.234375 -2.828125 C 0.375 -0.796875 1.453125 0.1875 3.1875 0.1875 C 4.9375 0.1875 6.203125 -1 6.203125 -2.609375 Z M 6.203125 -2.609375 \"/>\n",
       "</symbol>\n",
       "<symbol overflow=\"visible\" id=\"glyph0-7\">\n",
       "<path style=\"stroke:none;\" d=\"M 6.375 -2.171875 L 6.375 -3.25 L 5.109375 -3.25 L 5.109375 -8.765625 L 4.125 -8.765625 L 0.1875 -3.328125 L 0.1875 -2.046875 L 3.78125 -2.046875 L 3.78125 0 L 5.109375 0 L 5.109375 -2.046875 L 6.375 -2.046875 Z M 3.921875 -3.25 L 1.515625 -3.25 L 4.015625 -6.75 L 3.78125 -6.84375 L 3.78125 -3.25 Z M 3.921875 -3.25 \"/>\n",
       "</symbol>\n",
       "<symbol overflow=\"visible\" id=\"glyph0-8\">\n",
       "<path style=\"stroke:none;\" d=\"M 5.765625 -0.234375 L 3.65625 -3.390625 L 5.875 -6.546875 L 4.421875 -6.546875 L 2.96875 -4.375 L 1.53125 -6.546875 L 0.0625 -6.546875 L 2.25 -3.34375 L -0.0625 0 L 1.40625 0 L 2.921875 -2.296875 L 4.4375 0 L 5.921875 0 Z M 5.765625 -0.234375 \"/>\n",
       "</symbol>\n",
       "<symbol overflow=\"visible\" id=\"glyph1-0\">\n",
       "<path style=\"stroke:none;\" d=\"\"/>\n",
       "</symbol>\n",
       "<symbol overflow=\"visible\" id=\"glyph1-1\">\n",
       "<path style=\"stroke:none;\" d=\"M -4.21875 -6.21875 C -7.171875 -6.21875 -8.765625 -5.140625 -8.765625 -3.296875 C -8.765625 -1.46875 -7.15625 -0.375 -4.296875 -0.375 C -1.421875 -0.375 0.1875 -1.46875 0.1875 -3.296875 C 0.1875 -5.09375 -1.421875 -6.21875 -4.21875 -6.21875 Z M -4.3125 -4.859375 C -1.90625 -4.859375 -0.953125 -4.453125 -0.953125 -3.28125 C -0.953125 -2.15625 -1.953125 -1.734375 -4.28125 -1.734375 C -6.609375 -1.734375 -7.578125 -2.15625 -7.578125 -3.296875 C -7.578125 -4.4375 -6.59375 -4.859375 -4.3125 -4.859375 Z M -4.3125 -4.859375 \"/>\n",
       "</symbol>\n",
       "<symbol overflow=\"visible\" id=\"glyph1-2\">\n",
       "<path style=\"stroke:none;\" d=\"M -0.125 -2.421875 L -1.515625 -2.421875 L -1.515625 -0.90625 L 0 -0.90625 L 0 -2.421875 Z M -0.125 -2.421875 \"/>\n",
       "</symbol>\n",
       "<symbol overflow=\"visible\" id=\"glyph1-3\">\n",
       "<path style=\"stroke:none;\" d=\"M -0.125 -4.296875 L -8.765625 -4.296875 L -8.765625 -3.359375 C -7.328125 -2.953125 -7.28125 -2.859375 -7.0625 -1.078125 L -6.0625 -1.078125 L -6.0625 -2.96875 L 0 -2.96875 L 0 -4.296875 Z M -0.125 -4.296875 \"/>\n",
       "</symbol>\n",
       "<symbol overflow=\"visible\" id=\"glyph1-4\">\n",
       "<path style=\"stroke:none;\" d=\"M -2.953125 -6.28125 C -4.625 -6.28125 -5.875 -5.046875 -5.875 -3.40625 C -5.875 -2.8125 -5.671875 -2.21875 -5.515625 -2.015625 L -7.28125 -2.28125 L -7.28125 -5.84375 L -8.59375 -5.84375 L -8.59375 -1.203125 L -3.875 -0.515625 L -3.875 -1.71875 C -4.5 -2.25 -4.671875 -2.5625 -4.671875 -3.21875 C -4.671875 -4.359375 -4.0625 -4.9375 -2.8125 -4.9375 C -1.578125 -4.9375 -1.015625 -4.375 -1.015625 -3.21875 C -1.015625 -2.296875 -1.359375 -1.859375 -2.453125 -1.578125 L -2.453125 -0.25 C -0.625 -0.625 0.1875 -1.734375 0.1875 -3.234375 C 0.1875 -4.953125 -1.15625 -6.28125 -2.953125 -6.28125 Z M -2.953125 -6.28125 \"/>\n",
       "</symbol>\n",
       "<symbol overflow=\"visible\" id=\"glyph1-5\">\n",
       "<path style=\"stroke:none;\" d=\"M -6.140625 -6.265625 C -7.578125 -6.265625 -8.765625 -5.015625 -8.765625 -3.40625 C -8.765625 -1.671875 -7.75 -0.515625 -5.5625 -0.453125 L -5.5625 -1.78125 C -7.109375 -1.875 -7.578125 -2.328125 -7.578125 -3.375 C -7.578125 -4.328125 -7.03125 -4.90625 -6.125 -4.90625 C -5.453125 -4.90625 -4.96875 -4.546875 -4.53125 -3.796875 L -3.90625 -2.6875 C -2.90625 -0.90625 -2 -0.359375 0 -0.25 L 0 -6.203125 L -1.3125 -6.203125 L -1.3125 -1.75 C -1.875 -1.84375 -2.21875 -2.1875 -2.828125 -3.234375 L -3.484375 -4.421875 C -4.109375 -5.609375 -5.09375 -6.265625 -6.140625 -6.265625 Z M -6.140625 -6.265625 \"/>\n",
       "</symbol>\n",
       "<symbol overflow=\"visible\" id=\"glyph1-6\">\n",
       "<path style=\"stroke:none;\" d=\"M -2.609375 -6.203125 C -3.640625 -6.203125 -4.375 -5.65625 -4.71875 -4.625 L -4.453125 -4.625 C -4.765625 -5.421875 -5.453125 -5.953125 -6.296875 -5.953125 C -7.765625 -5.953125 -8.765625 -4.84375 -8.765625 -3.234375 C -8.765625 -1.515625 -7.703125 -0.453125 -5.765625 -0.421875 L -5.765625 -1.75 C -7.15625 -1.78125 -7.578125 -2.15625 -7.578125 -3.234375 C -7.578125 -4.171875 -7.15625 -4.59375 -6.265625 -4.59375 C -5.359375 -4.59375 -5.109375 -4.34375 -5.109375 -2.515625 L -3.953125 -2.515625 L -3.953125 -3.234375 C -3.953125 -4.390625 -3.546875 -4.84375 -2.59375 -4.84375 C -1.53125 -4.84375 -1.015625 -4.328125 -1.015625 -3.234375 C -1.015625 -2.078125 -1.46875 -1.640625 -2.828125 -1.5625 L -2.828125 -0.234375 C -0.796875 -0.375 0.1875 -1.453125 0.1875 -3.1875 C 0.1875 -4.9375 -1 -6.203125 -2.609375 -6.203125 Z M -2.609375 -6.203125 \"/>\n",
       "</symbol>\n",
       "<symbol overflow=\"visible\" id=\"glyph1-7\">\n",
       "<path style=\"stroke:none;\" d=\"M -2.171875 -6.375 L -3.25 -6.375 L -3.25 -5.109375 L -8.765625 -5.109375 L -8.765625 -4.125 L -3.328125 -0.1875 L -2.046875 -0.1875 L -2.046875 -3.78125 L 0 -3.78125 L 0 -5.109375 L -2.046875 -5.109375 L -2.046875 -6.375 Z M -3.25 -3.921875 L -3.25 -1.515625 L -6.75 -4.015625 L -6.84375 -3.78125 L -3.25 -3.78125 Z M -3.25 -3.921875 \"/>\n",
       "</symbol>\n",
       "<symbol overflow=\"visible\" id=\"glyph1-8\">\n",
       "<path style=\"stroke:none;\" d=\"M -3.21875 -6.40625 C -5.328125 -6.40625 -6.734375 -5.25 -6.734375 -3.578125 C -6.734375 -2.71875 -6.3125 -1.9375 -5.5625 -1.46875 L -5.46875 -1.703125 L -6.546875 -1.703125 L -6.546875 -0.515625 L 2.609375 -0.515625 L 2.609375 -1.78125 L -0.890625 -1.78125 L -0.796875 -1.546875 C -0.140625 -2.078125 0.1875 -2.765625 0.1875 -3.59375 C 0.1875 -5.203125 -1.21875 -6.40625 -3.21875 -6.40625 Z M -3.234375 -5.09375 C -1.8125 -5.09375 -1.015625 -4.5 -1.015625 -3.40625 C -1.015625 -2.359375 -1.75 -1.78125 -3.234375 -1.78125 C -4.703125 -1.78125 -5.53125 -2.359375 -5.53125 -3.40625 C -5.53125 -4.515625 -4.734375 -5.09375 -3.234375 -5.09375 Z M -3.234375 -5.09375 \"/>\n",
       "</symbol>\n",
       "<symbol overflow=\"visible\" id=\"glyph1-9\">\n",
       "<path style=\"stroke:none;\" d=\"M 2.3125 -3.59375 C 0.59375 -2.53125 -1.3125 -1.984375 -3.234375 -1.984375 C -5.140625 -1.984375 -7.078125 -2.53125 -9.015625 -3.734375 L -9.015625 -2.765625 C -7.40625 -1.53125 -5.125 -0.734375 -3.234375 -0.734375 C -1.34375 -0.734375 0.9375 -1.53125 2.546875 -2.765625 L 2.546875 -3.734375 Z M 2.3125 -3.59375 \"/>\n",
       "</symbol>\n",
       "<symbol overflow=\"visible\" id=\"glyph1-10\">\n",
       "<path style=\"stroke:none;\" d=\"M -0.234375 -5.765625 L -3.390625 -3.65625 L -6.546875 -5.875 L -6.546875 -4.421875 L -4.375 -2.96875 L -6.546875 -1.53125 L -6.546875 -0.0625 L -3.34375 -2.25 L 0 0.0625 L 0 -1.40625 L -2.296875 -2.921875 L 0 -4.4375 L 0 -5.921875 Z M -0.234375 -5.765625 \"/>\n",
       "</symbol>\n",
       "<symbol overflow=\"visible\" id=\"glyph1-11\">\n",
       "<path style=\"stroke:none;\" d=\"M -3.234375 -3.203125 C -5.125 -3.203125 -7.40625 -2.40625 -9.015625 -1.171875 L -9.015625 -0.203125 C -7.0625 -1.40625 -5.140625 -1.953125 -3.234375 -1.953125 C -1.3125 -1.953125 0.609375 -1.40625 2.546875 -0.203125 L 2.546875 -1.171875 C 0.9375 -2.40625 -1.34375 -3.203125 -3.234375 -3.203125 Z M -3.234375 -3.203125 \"/>\n",
       "</symbol>\n",
       "</g>\n",
       "</defs>\n",
       "<g id=\"surface272\">\n",
       "<rect x=\"0\" y=\"0\" width=\"504\" height=\"504\" style=\"fill:rgb(100%,100%,100%);fill-opacity:1;stroke:none;\"/>\n",
       "<path style=\"fill:none;stroke-width:0.75;stroke-linecap:round;stroke-linejoin:round;stroke:rgb(0%,0%,0%);stroke-opacity:1;stroke-miterlimit:10;\" d=\"M 77.101562 72.800781 C 77.101562 76.398438 71.699219 76.398438 71.699219 72.800781 C 71.699219 69.199219 77.101562 69.199219 77.101562 72.800781 \"/>\n",
       "<path style=\"fill:none;stroke-width:0.75;stroke-linecap:round;stroke-linejoin:round;stroke:rgb(0%,0%,0%);stroke-opacity:1;stroke-miterlimit:10;\" d=\"M 205.101562 302.132812 C 205.101562 305.734375 199.699219 305.734375 199.699219 302.132812 C 199.699219 298.535156 205.101562 298.535156 205.101562 302.132812 \"/>\n",
       "<path style=\"fill:none;stroke-width:0.75;stroke-linecap:round;stroke-linejoin:round;stroke:rgb(0%,0%,0%);stroke-opacity:1;stroke-miterlimit:10;\" d=\"M 333.101562 378.578125 C 333.101562 382.179688 327.699219 382.179688 327.699219 378.578125 C 327.699219 374.976562 333.101562 374.976562 333.101562 378.578125 \"/>\n",
       "<path style=\"fill:none;stroke-width:0.75;stroke-linecap:round;stroke-linejoin:round;stroke:rgb(0%,0%,0%);stroke-opacity:1;stroke-miterlimit:10;\" d=\"M 461.101562 416.800781 C 461.101562 420.398438 455.699219 420.398438 455.699219 416.800781 C 455.699219 413.199219 461.101562 413.199219 461.101562 416.800781 \"/>\n",
       "<path style=\"fill:none;stroke-width:0.75;stroke-linecap:round;stroke-linejoin:round;stroke:rgb(0%,0%,0%);stroke-opacity:1;stroke-miterlimit:10;\" d=\"M 74.398438 430.558594 L 458.398438 430.558594 \"/>\n",
       "<path style=\"fill:none;stroke-width:0.75;stroke-linecap:round;stroke-linejoin:round;stroke:rgb(0%,0%,0%);stroke-opacity:1;stroke-miterlimit:10;\" d=\"M 74.398438 430.558594 L 74.398438 437.761719 \"/>\n",
       "<path style=\"fill:none;stroke-width:0.75;stroke-linecap:round;stroke-linejoin:round;stroke:rgb(0%,0%,0%);stroke-opacity:1;stroke-miterlimit:10;\" d=\"M 138.398438 430.558594 L 138.398438 437.761719 \"/>\n",
       "<path style=\"fill:none;stroke-width:0.75;stroke-linecap:round;stroke-linejoin:round;stroke:rgb(0%,0%,0%);stroke-opacity:1;stroke-miterlimit:10;\" d=\"M 202.398438 430.558594 L 202.398438 437.761719 \"/>\n",
       "<path style=\"fill:none;stroke-width:0.75;stroke-linecap:round;stroke-linejoin:round;stroke:rgb(0%,0%,0%);stroke-opacity:1;stroke-miterlimit:10;\" d=\"M 266.398438 430.558594 L 266.398438 437.761719 \"/>\n",
       "<path style=\"fill:none;stroke-width:0.75;stroke-linecap:round;stroke-linejoin:round;stroke:rgb(0%,0%,0%);stroke-opacity:1;stroke-miterlimit:10;\" d=\"M 330.398438 430.558594 L 330.398438 437.761719 \"/>\n",
       "<path style=\"fill:none;stroke-width:0.75;stroke-linecap:round;stroke-linejoin:round;stroke:rgb(0%,0%,0%);stroke-opacity:1;stroke-miterlimit:10;\" d=\"M 394.398438 430.558594 L 394.398438 437.761719 \"/>\n",
       "<path style=\"fill:none;stroke-width:0.75;stroke-linecap:round;stroke-linejoin:round;stroke:rgb(0%,0%,0%);stroke-opacity:1;stroke-miterlimit:10;\" d=\"M 458.398438 430.558594 L 458.398438 437.761719 \"/>\n",
       "<g style=\"fill:rgb(0%,0%,0%);fill-opacity:1;\">\n",
       "  <use xlink:href=\"#glyph0-1\" x=\"65.898438\" y=\"456.256836\"/>\n",
       "  <use xlink:href=\"#glyph0-2\" x=\"72.570312\" y=\"456.256836\"/>\n",
       "  <use xlink:href=\"#glyph0-3\" x=\"75.90625\" y=\"456.256836\"/>\n",
       "</g>\n",
       "<g style=\"fill:rgb(0%,0%,0%);fill-opacity:1;\">\n",
       "  <use xlink:href=\"#glyph0-1\" x=\"129.898438\" y=\"456.256836\"/>\n",
       "  <use xlink:href=\"#glyph0-2\" x=\"136.570312\" y=\"456.256836\"/>\n",
       "  <use xlink:href=\"#glyph0-4\" x=\"139.90625\" y=\"456.256836\"/>\n",
       "</g>\n",
       "<g style=\"fill:rgb(0%,0%,0%);fill-opacity:1;\">\n",
       "  <use xlink:href=\"#glyph0-5\" x=\"193.898438\" y=\"456.256836\"/>\n",
       "  <use xlink:href=\"#glyph0-2\" x=\"200.570312\" y=\"456.256836\"/>\n",
       "  <use xlink:href=\"#glyph0-3\" x=\"203.90625\" y=\"456.256836\"/>\n",
       "</g>\n",
       "<g style=\"fill:rgb(0%,0%,0%);fill-opacity:1;\">\n",
       "  <use xlink:href=\"#glyph0-5\" x=\"257.898438\" y=\"456.256836\"/>\n",
       "  <use xlink:href=\"#glyph0-2\" x=\"264.570312\" y=\"456.256836\"/>\n",
       "  <use xlink:href=\"#glyph0-4\" x=\"267.90625\" y=\"456.256836\"/>\n",
       "</g>\n",
       "<g style=\"fill:rgb(0%,0%,0%);fill-opacity:1;\">\n",
       "  <use xlink:href=\"#glyph0-6\" x=\"321.898438\" y=\"456.256836\"/>\n",
       "  <use xlink:href=\"#glyph0-2\" x=\"328.570312\" y=\"456.256836\"/>\n",
       "  <use xlink:href=\"#glyph0-3\" x=\"331.90625\" y=\"456.256836\"/>\n",
       "</g>\n",
       "<g style=\"fill:rgb(0%,0%,0%);fill-opacity:1;\">\n",
       "  <use xlink:href=\"#glyph0-6\" x=\"385.898438\" y=\"456.256836\"/>\n",
       "  <use xlink:href=\"#glyph0-2\" x=\"392.570312\" y=\"456.256836\"/>\n",
       "  <use xlink:href=\"#glyph0-4\" x=\"395.90625\" y=\"456.256836\"/>\n",
       "</g>\n",
       "<g style=\"fill:rgb(0%,0%,0%);fill-opacity:1;\">\n",
       "  <use xlink:href=\"#glyph0-7\" x=\"449.898438\" y=\"456.256836\"/>\n",
       "  <use xlink:href=\"#glyph0-2\" x=\"456.570312\" y=\"456.256836\"/>\n",
       "  <use xlink:href=\"#glyph0-3\" x=\"459.90625\" y=\"456.256836\"/>\n",
       "</g>\n",
       "<path style=\"fill:none;stroke-width:0.75;stroke-linecap:round;stroke-linejoin:round;stroke:rgb(0%,0%,0%);stroke-opacity:1;stroke-miterlimit:10;\" d=\"M 59.039062 388.132812 L 59.039062 101.464844 \"/>\n",
       "<path style=\"fill:none;stroke-width:0.75;stroke-linecap:round;stroke-linejoin:round;stroke:rgb(0%,0%,0%);stroke-opacity:1;stroke-miterlimit:10;\" d=\"M 59.039062 388.132812 L 51.839844 388.132812 \"/>\n",
       "<path style=\"fill:none;stroke-width:0.75;stroke-linecap:round;stroke-linejoin:round;stroke:rgb(0%,0%,0%);stroke-opacity:1;stroke-miterlimit:10;\" d=\"M 59.039062 340.355469 L 51.839844 340.355469 \"/>\n",
       "<path style=\"fill:none;stroke-width:0.75;stroke-linecap:round;stroke-linejoin:round;stroke:rgb(0%,0%,0%);stroke-opacity:1;stroke-miterlimit:10;\" d=\"M 59.039062 292.578125 L 51.839844 292.578125 \"/>\n",
       "<path style=\"fill:none;stroke-width:0.75;stroke-linecap:round;stroke-linejoin:round;stroke:rgb(0%,0%,0%);stroke-opacity:1;stroke-miterlimit:10;\" d=\"M 59.039062 244.800781 L 51.839844 244.800781 \"/>\n",
       "<path style=\"fill:none;stroke-width:0.75;stroke-linecap:round;stroke-linejoin:round;stroke:rgb(0%,0%,0%);stroke-opacity:1;stroke-miterlimit:10;\" d=\"M 59.039062 197.023438 L 51.839844 197.023438 \"/>\n",
       "<path style=\"fill:none;stroke-width:0.75;stroke-linecap:round;stroke-linejoin:round;stroke:rgb(0%,0%,0%);stroke-opacity:1;stroke-miterlimit:10;\" d=\"M 59.039062 149.246094 L 51.839844 149.246094 \"/>\n",
       "<path style=\"fill:none;stroke-width:0.75;stroke-linecap:round;stroke-linejoin:round;stroke:rgb(0%,0%,0%);stroke-opacity:1;stroke-miterlimit:10;\" d=\"M 59.039062 101.464844 L 51.839844 101.464844 \"/>\n",
       "<g style=\"fill:rgb(0%,0%,0%);fill-opacity:1;\">\n",
       "  <use xlink:href=\"#glyph1-1\" x=\"41.538086\" y=\"400.132812\"/>\n",
       "  <use xlink:href=\"#glyph1-2\" x=\"41.538086\" y=\"393.460938\"/>\n",
       "  <use xlink:href=\"#glyph1-3\" x=\"41.538086\" y=\"390.125\"/>\n",
       "  <use xlink:href=\"#glyph1-4\" x=\"41.538086\" y=\"383.453125\"/>\n",
       "</g>\n",
       "<g style=\"fill:rgb(0%,0%,0%);fill-opacity:1;\">\n",
       "  <use xlink:href=\"#glyph1-1\" x=\"41.538086\" y=\"352.355469\"/>\n",
       "  <use xlink:href=\"#glyph1-2\" x=\"41.538086\" y=\"345.683594\"/>\n",
       "  <use xlink:href=\"#glyph1-5\" x=\"41.538086\" y=\"342.347656\"/>\n",
       "  <use xlink:href=\"#glyph1-1\" x=\"41.538086\" y=\"335.675781\"/>\n",
       "</g>\n",
       "<g style=\"fill:rgb(0%,0%,0%);fill-opacity:1;\">\n",
       "  <use xlink:href=\"#glyph1-1\" x=\"41.538086\" y=\"304.578125\"/>\n",
       "  <use xlink:href=\"#glyph1-2\" x=\"41.538086\" y=\"297.90625\"/>\n",
       "  <use xlink:href=\"#glyph1-5\" x=\"41.538086\" y=\"294.570312\"/>\n",
       "  <use xlink:href=\"#glyph1-4\" x=\"41.538086\" y=\"287.898438\"/>\n",
       "</g>\n",
       "<g style=\"fill:rgb(0%,0%,0%);fill-opacity:1;\">\n",
       "  <use xlink:href=\"#glyph1-1\" x=\"41.538086\" y=\"256.800781\"/>\n",
       "  <use xlink:href=\"#glyph1-2\" x=\"41.538086\" y=\"250.128906\"/>\n",
       "  <use xlink:href=\"#glyph1-6\" x=\"41.538086\" y=\"246.792969\"/>\n",
       "  <use xlink:href=\"#glyph1-1\" x=\"41.538086\" y=\"240.121094\"/>\n",
       "</g>\n",
       "<g style=\"fill:rgb(0%,0%,0%);fill-opacity:1;\">\n",
       "  <use xlink:href=\"#glyph1-1\" x=\"41.538086\" y=\"209.023438\"/>\n",
       "  <use xlink:href=\"#glyph1-2\" x=\"41.538086\" y=\"202.351562\"/>\n",
       "  <use xlink:href=\"#glyph1-6\" x=\"41.538086\" y=\"199.015625\"/>\n",
       "  <use xlink:href=\"#glyph1-4\" x=\"41.538086\" y=\"192.34375\"/>\n",
       "</g>\n",
       "<g style=\"fill:rgb(0%,0%,0%);fill-opacity:1;\">\n",
       "  <use xlink:href=\"#glyph1-1\" x=\"41.538086\" y=\"161.246094\"/>\n",
       "  <use xlink:href=\"#glyph1-2\" x=\"41.538086\" y=\"154.574219\"/>\n",
       "  <use xlink:href=\"#glyph1-7\" x=\"41.538086\" y=\"151.238281\"/>\n",
       "  <use xlink:href=\"#glyph1-1\" x=\"41.538086\" y=\"144.566406\"/>\n",
       "</g>\n",
       "<g style=\"fill:rgb(0%,0%,0%);fill-opacity:1;\">\n",
       "  <use xlink:href=\"#glyph1-1\" x=\"41.538086\" y=\"113.464844\"/>\n",
       "  <use xlink:href=\"#glyph1-2\" x=\"41.538086\" y=\"106.792969\"/>\n",
       "  <use xlink:href=\"#glyph1-7\" x=\"41.538086\" y=\"103.457031\"/>\n",
       "  <use xlink:href=\"#glyph1-4\" x=\"41.538086\" y=\"96.785156\"/>\n",
       "</g>\n",
       "<path style=\"fill:none;stroke-width:0.75;stroke-linecap:round;stroke-linejoin:round;stroke:rgb(0%,0%,0%);stroke-opacity:1;stroke-miterlimit:10;\" d=\"M 59.039062 430.558594 L 473.761719 430.558594 L 473.761719 59.039062 L 59.039062 59.039062 L 59.039062 430.558594 \"/>\n",
       "<g style=\"fill:rgb(0%,0%,0%);fill-opacity:1;\">\n",
       "  <use xlink:href=\"#glyph0-8\" x=\"263.398438\" y=\"485.057617\"/>\n",
       "</g>\n",
       "<g style=\"fill:rgb(0%,0%,0%);fill-opacity:1;\">\n",
       "  <use xlink:href=\"#glyph1-8\" x=\"12.737305\" y=\"258.800781\"/>\n",
       "  <use xlink:href=\"#glyph1-6\" x=\"12.737305\" y=\"252.128906\"/>\n",
       "  <use xlink:href=\"#glyph1-9\" x=\"12.737305\" y=\"245.457031\"/>\n",
       "  <use xlink:href=\"#glyph1-10\" x=\"12.737305\" y=\"241.460938\"/>\n",
       "  <use xlink:href=\"#glyph1-11\" x=\"12.737305\" y=\"235.460938\"/>\n",
       "</g>\n",
       "</g>\n",
       "</svg>\n"
      ],
      "text/plain": [
       "plot without title"
      ]
     },
     "metadata": {
      "image/svg+xml": {
       "isolated": true
      }
     },
     "output_type": "display_data"
    }
   ],
   "source": [
    "# Solution:\n",
    "# p1 reflects no bias toward any particular side they are all equally likely\n",
    "p1(x)\n",
    "# p2 is biased towards larger values of x and the bias increases linearly\n",
    "p2(x)\n",
    "plot(x,p2(x))\n",
    "# p3 is biased towards smaller values of x and the bias decreases ~ 1/x\n",
    "p3(x)\n",
    "plot(x,p3(x))"
   ]
  },
  {
   "cell_type": "code",
   "execution_count": 27,
   "metadata": {
    "collapsed": true
   },
   "outputs": [],
   "source": [
    "# Exercise 2.2\n",
    "# At the outset we assume p(p1)=p(p2)=p(p3)=1/3 but after 100 rolls we find that the number of 1s,2s,3s,4s are [25,25,25,25]. Alternatively\n",
    "# another time after 100 rules we find that the rolls were [48 24 16 12]. Which models are mostly likely?"
   ]
  },
  {
   "cell_type": "code",
   "execution_count": 41,
   "metadata": {
    "collapsed": false
   },
   "outputs": [
    {
     "data": {
      "text/html": [
       "<ol class=list-inline>\n",
       "\t<li>0.25</li>\n",
       "\t<li>0.25</li>\n",
       "\t<li>0.25</li>\n",
       "\t<li>0.25</li>\n",
       "</ol>\n"
      ],
      "text/latex": [
       "\\begin{enumerate*}\n",
       "\\item 0.25\n",
       "\\item 0.25\n",
       "\\item 0.25\n",
       "\\item 0.25\n",
       "\\end{enumerate*}\n"
      ],
      "text/markdown": [
       "1. 0.25\n",
       "2. 0.25\n",
       "3. 0.25\n",
       "4. 0.25\n",
       "\n",
       "\n"
      ],
      "text/plain": [
       "[1] 0.25 0.25 0.25 0.25"
      ]
     },
     "execution_count": 41,
     "metadata": {},
     "output_type": "execute_result"
    },
    {
     "data": {
      "text/html": [
       "<ol class=list-inline>\n",
       "\t<li>0.48</li>\n",
       "\t<li>0.24</li>\n",
       "\t<li>0.16</li>\n",
       "\t<li>0.12</li>\n",
       "</ol>\n"
      ],
      "text/latex": [
       "\\begin{enumerate*}\n",
       "\\item 0.48\n",
       "\\item 0.24\n",
       "\\item 0.16\n",
       "\\item 0.12\n",
       "\\end{enumerate*}\n"
      ],
      "text/markdown": [
       "1. 0.48\n",
       "2. 0.24\n",
       "3. 0.16\n",
       "4. 0.12\n",
       "\n",
       "\n"
      ],
      "text/plain": [
       "[1] 0.48 0.24 0.16 0.12"
      ]
     },
     "execution_count": 41,
     "metadata": {},
     "output_type": "execute_result"
    }
   ],
   "source": [
    "a = c(25,25,25,25)\n",
    "b = c(48,24,16,12)\n",
    "pa <- function(x) {\n",
    "    return(a[x]/sum(a))\n",
    "}\n",
    "pb <- function(x) {\n",
    "    return(b[x]/sum(b))\n",
    "}\n"
   ]
  },
  {
   "cell_type": "code",
   "execution_count": 42,
   "metadata": {
    "collapsed": false
   },
   "outputs": [
    {
     "data": {
      "text/html": [
       "<ol class=list-inline>\n",
       "\t<li>0.25</li>\n",
       "\t<li>0.25</li>\n",
       "\t<li>0.25</li>\n",
       "\t<li>0.25</li>\n",
       "</ol>\n"
      ],
      "text/latex": [
       "\\begin{enumerate*}\n",
       "\\item 0.25\n",
       "\\item 0.25\n",
       "\\item 0.25\n",
       "\\item 0.25\n",
       "\\end{enumerate*}\n"
      ],
      "text/markdown": [
       "1. 0.25\n",
       "2. 0.25\n",
       "3. 0.25\n",
       "4. 0.25\n",
       "\n",
       "\n"
      ],
      "text/plain": [
       "[1] 0.25 0.25 0.25 0.25"
      ]
     },
     "execution_count": 42,
     "metadata": {},
     "output_type": "execute_result"
    },
    {
     "data": {
      "text/html": [
       "<ol class=list-inline>\n",
       "\t<li>0.48</li>\n",
       "\t<li>0.24</li>\n",
       "\t<li>0.16</li>\n",
       "\t<li>0.12</li>\n",
       "</ol>\n"
      ],
      "text/latex": [
       "\\begin{enumerate*}\n",
       "\\item 0.48\n",
       "\\item 0.24\n",
       "\\item 0.16\n",
       "\\item 0.12\n",
       "\\end{enumerate*}\n"
      ],
      "text/markdown": [
       "1. 0.48\n",
       "2. 0.24\n",
       "3. 0.16\n",
       "4. 0.12\n",
       "\n",
       "\n"
      ],
      "text/plain": [
       "[1] 0.48 0.24 0.16 0.12"
      ]
     },
     "execution_count": 42,
     "metadata": {},
     "output_type": "execute_result"
    }
   ],
   "source": [
    "# Solution\n",
    "# The first case p1 is most likely as the probabilities most closely mimic it\n",
    "pa(x)\n",
    "# The second case is mostly likely p3 \n",
    "pb(x)"
   ]
  },
  {
   "cell_type": "code",
   "execution_count": null,
   "metadata": {
    "collapsed": true
   },
   "outputs": [],
   "source": []
  }
 ],
 "metadata": {
  "kernelspec": {
   "display_name": "R",
   "language": "r",
   "name": "ir"
  },
  "language_info": {
   "codemirror_mode": "r",
   "file_extension": ".r",
   "mimetype": "text/x-r-source",
   "name": "R",
   "pygments_lexer": "r",
   "version": "3.2.2"
  },
  "name": "Chapter2.ipynb"
 },
 "nbformat": 4,
 "nbformat_minor": 0
}
